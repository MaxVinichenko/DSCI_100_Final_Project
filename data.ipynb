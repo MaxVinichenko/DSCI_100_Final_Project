{
 "cells": [
  {
   "cell_type": "code",
   "execution_count": 1,
   "id": "b687b93f-6a33-49ea-8972-08b732e66e6c",
   "metadata": {
    "tags": []
   },
   "outputs": [
    {
     "name": "stderr",
     "output_type": "stream",
     "text": [
      "── \u001b[1mAttaching packages\u001b[22m ─────────────────────────────────────── tidyverse 1.3.2 ──\n",
      "\u001b[32m✔\u001b[39m \u001b[34mggplot2\u001b[39m 3.4.2     \u001b[32m✔\u001b[39m \u001b[34mpurrr  \u001b[39m 1.0.1\n",
      "\u001b[32m✔\u001b[39m \u001b[34mtibble \u001b[39m 3.2.1     \u001b[32m✔\u001b[39m \u001b[34mdplyr  \u001b[39m 1.1.1\n",
      "\u001b[32m✔\u001b[39m \u001b[34mtidyr  \u001b[39m 1.3.0     \u001b[32m✔\u001b[39m \u001b[34mstringr\u001b[39m 1.5.0\n",
      "\u001b[32m✔\u001b[39m \u001b[34mreadr  \u001b[39m 2.1.3     \u001b[32m✔\u001b[39m \u001b[34mforcats\u001b[39m 0.5.2\n",
      "── \u001b[1mConflicts\u001b[22m ────────────────────────────────────────── tidyverse_conflicts() ──\n",
      "\u001b[31m✖\u001b[39m \u001b[34mdplyr\u001b[39m::\u001b[32mfilter()\u001b[39m masks \u001b[34mstats\u001b[39m::filter()\n",
      "\u001b[31m✖\u001b[39m \u001b[34mdplyr\u001b[39m::\u001b[32mlag()\u001b[39m    masks \u001b[34mstats\u001b[39m::lag()\n",
      "── \u001b[1mAttaching packages\u001b[22m ────────────────────────────────────── tidymodels 1.0.0 ──\n",
      "\n",
      "\u001b[32m✔\u001b[39m \u001b[34mbroom       \u001b[39m 1.0.2     \u001b[32m✔\u001b[39m \u001b[34mrsample     \u001b[39m 1.1.1\n",
      "\u001b[32m✔\u001b[39m \u001b[34mdials       \u001b[39m 1.1.0     \u001b[32m✔\u001b[39m \u001b[34mtune        \u001b[39m 1.0.1\n",
      "\u001b[32m✔\u001b[39m \u001b[34minfer       \u001b[39m 1.0.4     \u001b[32m✔\u001b[39m \u001b[34mworkflows   \u001b[39m 1.1.2\n",
      "\u001b[32m✔\u001b[39m \u001b[34mmodeldata   \u001b[39m 1.0.1     \u001b[32m✔\u001b[39m \u001b[34mworkflowsets\u001b[39m 1.0.0\n",
      "\u001b[32m✔\u001b[39m \u001b[34mparsnip     \u001b[39m 1.0.3     \u001b[32m✔\u001b[39m \u001b[34myardstick   \u001b[39m 1.1.0\n",
      "\u001b[32m✔\u001b[39m \u001b[34mrecipes     \u001b[39m 1.0.4     \n",
      "\n",
      "── \u001b[1mConflicts\u001b[22m ───────────────────────────────────────── tidymodels_conflicts() ──\n",
      "\u001b[31m✖\u001b[39m \u001b[34mscales\u001b[39m::\u001b[32mdiscard()\u001b[39m masks \u001b[34mpurrr\u001b[39m::discard()\n",
      "\u001b[31m✖\u001b[39m \u001b[34mdplyr\u001b[39m::\u001b[32mfilter()\u001b[39m   masks \u001b[34mstats\u001b[39m::filter()\n",
      "\u001b[31m✖\u001b[39m \u001b[34mrecipes\u001b[39m::\u001b[32mfixed()\u001b[39m  masks \u001b[34mstringr\u001b[39m::fixed()\n",
      "\u001b[31m✖\u001b[39m \u001b[34mdplyr\u001b[39m::\u001b[32mlag()\u001b[39m      masks \u001b[34mstats\u001b[39m::lag()\n",
      "\u001b[31m✖\u001b[39m \u001b[34myardstick\u001b[39m::\u001b[32mspec()\u001b[39m masks \u001b[34mreadr\u001b[39m::spec()\n",
      "\u001b[31m✖\u001b[39m \u001b[34mrecipes\u001b[39m::\u001b[32mstep()\u001b[39m   masks \u001b[34mstats\u001b[39m::step()\n",
      "\u001b[34m•\u001b[39m Use \u001b[32mtidymodels_prefer()\u001b[39m to resolve common conflicts.\n",
      "\n"
     ]
    }
   ],
   "source": [
    "library(tidyverse)\n",
    "library(repr)\n",
    "library(tidymodels)\n",
    "options(repr.matrix.max.rows = 10)"
   ]
  },
  {
   "cell_type": "code",
   "execution_count": 2,
   "id": "992332de-d2ed-4088-b245-e8fd5524de3a",
   "metadata": {
    "tags": []
   },
   "outputs": [],
   "source": [
    "url <- \"https://archive.ics.uci.edu/static/public/45/heart+disease.zip\"\n",
    "temp <- tempfile()\n",
    "download.file(url, temp)\n",
    "data.hungary <- read.csv(unz(temp, \"processed.hungarian.data\"))\n",
    "unlink(temp)"
   ]
  },
  {
   "cell_type": "code",
   "execution_count": 3,
   "id": "2460b97b-b262-41c6-8060-b699cb60ea2a",
   "metadata": {
    "tags": []
   },
   "outputs": [
    {
     "name": "stderr",
     "output_type": "stream",
     "text": [
      "Warning message in eval(substitute(list(...)), `_data`, parent.frame()):\n",
      "“NAs introduced by coercion”\n",
      "Warning message in eval(substitute(list(...)), `_data`, parent.frame()):\n",
      "“NAs introduced by coercion”\n",
      "Warning message in eval(substitute(list(...)), `_data`, parent.frame()):\n",
      "“NAs introduced by coercion”\n",
      "Warning message in eval(substitute(list(...)), `_data`, parent.frame()):\n",
      "“NAs introduced by coercion”\n",
      "Warning message in eval(substitute(list(...)), `_data`, parent.frame()):\n",
      "“NAs introduced by coercion”\n",
      "Warning message in eval(substitute(list(...)), `_data`, parent.frame()):\n",
      "“NAs introduced by coercion”\n",
      "Warning message in eval(substitute(list(...)), `_data`, parent.frame()):\n",
      "“NAs introduced by coercion”\n",
      "Warning message in eval(substitute(list(...)), `_data`, parent.frame()):\n",
      "“NAs introduced by coercion”\n",
      "Warning message in eval(substitute(list(...)), `_data`, parent.frame()):\n",
      "“NAs introduced by coercion”\n"
     ]
    },
    {
     "data": {
      "text/html": [
       "<table class=\"dataframe\">\n",
       "<caption>A data.frame: 293 × 14</caption>\n",
       "<thead>\n",
       "\t<tr><th scope=col>age</th><th scope=col>sex</th><th scope=col>chest_pain</th><th scope=col>resting_bp</th><th scope=col>cholesterol</th><th scope=col>fasting_bgl</th><th scope=col>resting_ekg</th><th scope=col>max_hr</th><th scope=col>angina</th><th scope=col>exercise_ST</th><th scope=col>ST_slope</th><th scope=col>fluoroscopy_count</th><th scope=col>thal</th><th scope=col>vessel_narrow</th></tr>\n",
       "\t<tr><th scope=col>&lt;int&gt;</th><th scope=col>&lt;int&gt;</th><th scope=col>&lt;int&gt;</th><th scope=col>&lt;int&gt;</th><th scope=col>&lt;int&gt;</th><th scope=col>&lt;int&gt;</th><th scope=col>&lt;int&gt;</th><th scope=col>&lt;int&gt;</th><th scope=col>&lt;int&gt;</th><th scope=col>&lt;dbl&gt;</th><th scope=col>&lt;int&gt;</th><th scope=col>&lt;int&gt;</th><th scope=col>&lt;int&gt;</th><th scope=col>&lt;fct&gt;</th></tr>\n",
       "</thead>\n",
       "<tbody>\n",
       "\t<tr><td>29</td><td>1</td><td>2</td><td>120</td><td>243</td><td>0</td><td>0</td><td>160</td><td>0</td><td>0</td><td>NA</td><td>NA</td><td>NA</td><td>0</td></tr>\n",
       "\t<tr><td>29</td><td>1</td><td>2</td><td>140</td><td> NA</td><td>0</td><td>0</td><td>170</td><td>0</td><td>0</td><td>NA</td><td>NA</td><td>NA</td><td>0</td></tr>\n",
       "\t<tr><td>30</td><td>0</td><td>1</td><td>170</td><td>237</td><td>0</td><td>1</td><td>170</td><td>0</td><td>0</td><td>NA</td><td>NA</td><td> 6</td><td>0</td></tr>\n",
       "\t<tr><td>31</td><td>0</td><td>2</td><td>100</td><td>219</td><td>0</td><td>1</td><td>150</td><td>0</td><td>0</td><td>NA</td><td>NA</td><td>NA</td><td>0</td></tr>\n",
       "\t<tr><td>32</td><td>0</td><td>2</td><td>105</td><td>198</td><td>0</td><td>0</td><td>165</td><td>0</td><td>0</td><td>NA</td><td>NA</td><td>NA</td><td>0</td></tr>\n",
       "\t<tr><td>⋮</td><td>⋮</td><td>⋮</td><td>⋮</td><td>⋮</td><td>⋮</td><td>⋮</td><td>⋮</td><td>⋮</td><td>⋮</td><td>⋮</td><td>⋮</td><td>⋮</td><td>⋮</td></tr>\n",
       "\t<tr><td>52</td><td>1</td><td>4</td><td>160</td><td>331</td><td>0</td><td>0</td><td> 94</td><td>1</td><td>2.5</td><td>NA</td><td>NA</td><td>NA</td><td>1</td></tr>\n",
       "\t<tr><td>54</td><td>0</td><td>3</td><td>130</td><td>294</td><td>0</td><td>1</td><td>100</td><td>1</td><td>0.0</td><td> 2</td><td>NA</td><td>NA</td><td>1</td></tr>\n",
       "\t<tr><td>56</td><td>1</td><td>4</td><td>155</td><td>342</td><td>1</td><td>0</td><td>150</td><td>1</td><td>3.0</td><td> 2</td><td>NA</td><td>NA</td><td>1</td></tr>\n",
       "\t<tr><td>58</td><td>0</td><td>2</td><td>180</td><td>393</td><td>0</td><td>0</td><td>110</td><td>1</td><td>1.0</td><td> 2</td><td>NA</td><td> 7</td><td>1</td></tr>\n",
       "\t<tr><td>65</td><td>1</td><td>4</td><td>130</td><td>275</td><td>0</td><td>1</td><td>115</td><td>1</td><td>1.0</td><td> 2</td><td>NA</td><td>NA</td><td>1</td></tr>\n",
       "</tbody>\n",
       "</table>\n"
      ],
      "text/latex": [
       "A data.frame: 293 × 14\n",
       "\\begin{tabular}{llllllllllllll}\n",
       " age & sex & chest\\_pain & resting\\_bp & cholesterol & fasting\\_bgl & resting\\_ekg & max\\_hr & angina & exercise\\_ST & ST\\_slope & fluoroscopy\\_count & thal & vessel\\_narrow\\\\\n",
       " <int> & <int> & <int> & <int> & <int> & <int> & <int> & <int> & <int> & <dbl> & <int> & <int> & <int> & <fct>\\\\\n",
       "\\hline\n",
       "\t 29 & 1 & 2 & 120 & 243 & 0 & 0 & 160 & 0 & 0 & NA & NA & NA & 0\\\\\n",
       "\t 29 & 1 & 2 & 140 &  NA & 0 & 0 & 170 & 0 & 0 & NA & NA & NA & 0\\\\\n",
       "\t 30 & 0 & 1 & 170 & 237 & 0 & 1 & 170 & 0 & 0 & NA & NA &  6 & 0\\\\\n",
       "\t 31 & 0 & 2 & 100 & 219 & 0 & 1 & 150 & 0 & 0 & NA & NA & NA & 0\\\\\n",
       "\t 32 & 0 & 2 & 105 & 198 & 0 & 0 & 165 & 0 & 0 & NA & NA & NA & 0\\\\\n",
       "\t ⋮ & ⋮ & ⋮ & ⋮ & ⋮ & ⋮ & ⋮ & ⋮ & ⋮ & ⋮ & ⋮ & ⋮ & ⋮ & ⋮\\\\\n",
       "\t 52 & 1 & 4 & 160 & 331 & 0 & 0 &  94 & 1 & 2.5 & NA & NA & NA & 1\\\\\n",
       "\t 54 & 0 & 3 & 130 & 294 & 0 & 1 & 100 & 1 & 0.0 &  2 & NA & NA & 1\\\\\n",
       "\t 56 & 1 & 4 & 155 & 342 & 1 & 0 & 150 & 1 & 3.0 &  2 & NA & NA & 1\\\\\n",
       "\t 58 & 0 & 2 & 180 & 393 & 0 & 0 & 110 & 1 & 1.0 &  2 & NA &  7 & 1\\\\\n",
       "\t 65 & 1 & 4 & 130 & 275 & 0 & 1 & 115 & 1 & 1.0 &  2 & NA & NA & 1\\\\\n",
       "\\end{tabular}\n"
      ],
      "text/markdown": [
       "\n",
       "A data.frame: 293 × 14\n",
       "\n",
       "| age &lt;int&gt; | sex &lt;int&gt; | chest_pain &lt;int&gt; | resting_bp &lt;int&gt; | cholesterol &lt;int&gt; | fasting_bgl &lt;int&gt; | resting_ekg &lt;int&gt; | max_hr &lt;int&gt; | angina &lt;int&gt; | exercise_ST &lt;dbl&gt; | ST_slope &lt;int&gt; | fluoroscopy_count &lt;int&gt; | thal &lt;int&gt; | vessel_narrow &lt;fct&gt; |\n",
       "|---|---|---|---|---|---|---|---|---|---|---|---|---|---|\n",
       "| 29 | 1 | 2 | 120 | 243 | 0 | 0 | 160 | 0 | 0 | NA | NA | NA | 0 |\n",
       "| 29 | 1 | 2 | 140 |  NA | 0 | 0 | 170 | 0 | 0 | NA | NA | NA | 0 |\n",
       "| 30 | 0 | 1 | 170 | 237 | 0 | 1 | 170 | 0 | 0 | NA | NA |  6 | 0 |\n",
       "| 31 | 0 | 2 | 100 | 219 | 0 | 1 | 150 | 0 | 0 | NA | NA | NA | 0 |\n",
       "| 32 | 0 | 2 | 105 | 198 | 0 | 0 | 165 | 0 | 0 | NA | NA | NA | 0 |\n",
       "| ⋮ | ⋮ | ⋮ | ⋮ | ⋮ | ⋮ | ⋮ | ⋮ | ⋮ | ⋮ | ⋮ | ⋮ | ⋮ | ⋮ |\n",
       "| 52 | 1 | 4 | 160 | 331 | 0 | 0 |  94 | 1 | 2.5 | NA | NA | NA | 1 |\n",
       "| 54 | 0 | 3 | 130 | 294 | 0 | 1 | 100 | 1 | 0.0 |  2 | NA | NA | 1 |\n",
       "| 56 | 1 | 4 | 155 | 342 | 1 | 0 | 150 | 1 | 3.0 |  2 | NA | NA | 1 |\n",
       "| 58 | 0 | 2 | 180 | 393 | 0 | 0 | 110 | 1 | 1.0 |  2 | NA |  7 | 1 |\n",
       "| 65 | 1 | 4 | 130 | 275 | 0 | 1 | 115 | 1 | 1.0 |  2 | NA | NA | 1 |\n",
       "\n"
      ],
      "text/plain": [
       "    age sex chest_pain resting_bp cholesterol fasting_bgl resting_ekg max_hr\n",
       "1   29  1   2          120        243         0           0           160   \n",
       "2   29  1   2          140         NA         0           0           170   \n",
       "3   30  0   1          170        237         0           1           170   \n",
       "4   31  0   2          100        219         0           1           150   \n",
       "5   32  0   2          105        198         0           0           165   \n",
       "⋮   ⋮   ⋮   ⋮          ⋮          ⋮           ⋮           ⋮           ⋮     \n",
       "289 52  1   4          160        331         0           0            94   \n",
       "290 54  0   3          130        294         0           1           100   \n",
       "291 56  1   4          155        342         1           0           150   \n",
       "292 58  0   2          180        393         0           0           110   \n",
       "293 65  1   4          130        275         0           1           115   \n",
       "    angina exercise_ST ST_slope fluoroscopy_count thal vessel_narrow\n",
       "1   0      0           NA       NA                NA   0            \n",
       "2   0      0           NA       NA                NA   0            \n",
       "3   0      0           NA       NA                 6   0            \n",
       "4   0      0           NA       NA                NA   0            \n",
       "5   0      0           NA       NA                NA   0            \n",
       "⋮   ⋮      ⋮           ⋮        ⋮                 ⋮    ⋮            \n",
       "289 1      2.5         NA       NA                NA   1            \n",
       "290 1      0.0          2       NA                NA   1            \n",
       "291 1      3.0          2       NA                NA   1            \n",
       "292 1      1.0          2       NA                 7   1            \n",
       "293 1      1.0          2       NA                NA   1            "
      ]
     },
     "metadata": {},
     "output_type": "display_data"
    },
    {
     "data": {
      "text/html": [
       "<table class=\"dataframe\">\n",
       "<caption>A data.frame: 293 × 14</caption>\n",
       "<thead>\n",
       "\t<tr><th scope=col>X28</th><th scope=col>X1</th><th scope=col>X2</th><th scope=col>X130</th><th scope=col>X132</th><th scope=col>X0</th><th scope=col>X2.1</th><th scope=col>X185</th><th scope=col>X0.1</th><th scope=col>X0.2</th><th scope=col>X.</th><th scope=col>X..1</th><th scope=col>X..2</th><th scope=col>X0.3</th></tr>\n",
       "\t<tr><th scope=col>&lt;int&gt;</th><th scope=col>&lt;int&gt;</th><th scope=col>&lt;int&gt;</th><th scope=col>&lt;chr&gt;</th><th scope=col>&lt;chr&gt;</th><th scope=col>&lt;chr&gt;</th><th scope=col>&lt;chr&gt;</th><th scope=col>&lt;chr&gt;</th><th scope=col>&lt;chr&gt;</th><th scope=col>&lt;dbl&gt;</th><th scope=col>&lt;chr&gt;</th><th scope=col>&lt;chr&gt;</th><th scope=col>&lt;chr&gt;</th><th scope=col>&lt;int&gt;</th></tr>\n",
       "</thead>\n",
       "<tbody>\n",
       "\t<tr><td>29</td><td>1</td><td>2</td><td>120</td><td>243</td><td>0</td><td>0</td><td>160</td><td>0</td><td>0</td><td>?</td><td>?</td><td>?</td><td>0</td></tr>\n",
       "\t<tr><td>29</td><td>1</td><td>2</td><td>140</td><td>?  </td><td>0</td><td>0</td><td>170</td><td>0</td><td>0</td><td>?</td><td>?</td><td>?</td><td>0</td></tr>\n",
       "\t<tr><td>30</td><td>0</td><td>1</td><td>170</td><td>237</td><td>0</td><td>1</td><td>170</td><td>0</td><td>0</td><td>?</td><td>?</td><td>6</td><td>0</td></tr>\n",
       "\t<tr><td>31</td><td>0</td><td>2</td><td>100</td><td>219</td><td>0</td><td>1</td><td>150</td><td>0</td><td>0</td><td>?</td><td>?</td><td>?</td><td>0</td></tr>\n",
       "\t<tr><td>32</td><td>0</td><td>2</td><td>105</td><td>198</td><td>0</td><td>0</td><td>165</td><td>0</td><td>0</td><td>?</td><td>?</td><td>?</td><td>0</td></tr>\n",
       "\t<tr><td>⋮</td><td>⋮</td><td>⋮</td><td>⋮</td><td>⋮</td><td>⋮</td><td>⋮</td><td>⋮</td><td>⋮</td><td>⋮</td><td>⋮</td><td>⋮</td><td>⋮</td><td>⋮</td></tr>\n",
       "\t<tr><td>52</td><td>1</td><td>4</td><td>160</td><td>331</td><td>0</td><td>0</td><td>94 </td><td>1</td><td>2.5</td><td>?</td><td>?</td><td>?</td><td>1</td></tr>\n",
       "\t<tr><td>54</td><td>0</td><td>3</td><td>130</td><td>294</td><td>0</td><td>1</td><td>100</td><td>1</td><td>0.0</td><td>2</td><td>?</td><td>?</td><td>1</td></tr>\n",
       "\t<tr><td>56</td><td>1</td><td>4</td><td>155</td><td>342</td><td>1</td><td>0</td><td>150</td><td>1</td><td>3.0</td><td>2</td><td>?</td><td>?</td><td>1</td></tr>\n",
       "\t<tr><td>58</td><td>0</td><td>2</td><td>180</td><td>393</td><td>0</td><td>0</td><td>110</td><td>1</td><td>1.0</td><td>2</td><td>?</td><td>7</td><td>1</td></tr>\n",
       "\t<tr><td>65</td><td>1</td><td>4</td><td>130</td><td>275</td><td>0</td><td>1</td><td>115</td><td>1</td><td>1.0</td><td>2</td><td>?</td><td>?</td><td>1</td></tr>\n",
       "</tbody>\n",
       "</table>\n"
      ],
      "text/latex": [
       "A data.frame: 293 × 14\n",
       "\\begin{tabular}{llllllllllllll}\n",
       " X28 & X1 & X2 & X130 & X132 & X0 & X2.1 & X185 & X0.1 & X0.2 & X. & X..1 & X..2 & X0.3\\\\\n",
       " <int> & <int> & <int> & <chr> & <chr> & <chr> & <chr> & <chr> & <chr> & <dbl> & <chr> & <chr> & <chr> & <int>\\\\\n",
       "\\hline\n",
       "\t 29 & 1 & 2 & 120 & 243 & 0 & 0 & 160 & 0 & 0 & ? & ? & ? & 0\\\\\n",
       "\t 29 & 1 & 2 & 140 & ?   & 0 & 0 & 170 & 0 & 0 & ? & ? & ? & 0\\\\\n",
       "\t 30 & 0 & 1 & 170 & 237 & 0 & 1 & 170 & 0 & 0 & ? & ? & 6 & 0\\\\\n",
       "\t 31 & 0 & 2 & 100 & 219 & 0 & 1 & 150 & 0 & 0 & ? & ? & ? & 0\\\\\n",
       "\t 32 & 0 & 2 & 105 & 198 & 0 & 0 & 165 & 0 & 0 & ? & ? & ? & 0\\\\\n",
       "\t ⋮ & ⋮ & ⋮ & ⋮ & ⋮ & ⋮ & ⋮ & ⋮ & ⋮ & ⋮ & ⋮ & ⋮ & ⋮ & ⋮\\\\\n",
       "\t 52 & 1 & 4 & 160 & 331 & 0 & 0 & 94  & 1 & 2.5 & ? & ? & ? & 1\\\\\n",
       "\t 54 & 0 & 3 & 130 & 294 & 0 & 1 & 100 & 1 & 0.0 & 2 & ? & ? & 1\\\\\n",
       "\t 56 & 1 & 4 & 155 & 342 & 1 & 0 & 150 & 1 & 3.0 & 2 & ? & ? & 1\\\\\n",
       "\t 58 & 0 & 2 & 180 & 393 & 0 & 0 & 110 & 1 & 1.0 & 2 & ? & 7 & 1\\\\\n",
       "\t 65 & 1 & 4 & 130 & 275 & 0 & 1 & 115 & 1 & 1.0 & 2 & ? & ? & 1\\\\\n",
       "\\end{tabular}\n"
      ],
      "text/markdown": [
       "\n",
       "A data.frame: 293 × 14\n",
       "\n",
       "| X28 &lt;int&gt; | X1 &lt;int&gt; | X2 &lt;int&gt; | X130 &lt;chr&gt; | X132 &lt;chr&gt; | X0 &lt;chr&gt; | X2.1 &lt;chr&gt; | X185 &lt;chr&gt; | X0.1 &lt;chr&gt; | X0.2 &lt;dbl&gt; | X. &lt;chr&gt; | X..1 &lt;chr&gt; | X..2 &lt;chr&gt; | X0.3 &lt;int&gt; |\n",
       "|---|---|---|---|---|---|---|---|---|---|---|---|---|---|\n",
       "| 29 | 1 | 2 | 120 | 243 | 0 | 0 | 160 | 0 | 0 | ? | ? | ? | 0 |\n",
       "| 29 | 1 | 2 | 140 | ?   | 0 | 0 | 170 | 0 | 0 | ? | ? | ? | 0 |\n",
       "| 30 | 0 | 1 | 170 | 237 | 0 | 1 | 170 | 0 | 0 | ? | ? | 6 | 0 |\n",
       "| 31 | 0 | 2 | 100 | 219 | 0 | 1 | 150 | 0 | 0 | ? | ? | ? | 0 |\n",
       "| 32 | 0 | 2 | 105 | 198 | 0 | 0 | 165 | 0 | 0 | ? | ? | ? | 0 |\n",
       "| ⋮ | ⋮ | ⋮ | ⋮ | ⋮ | ⋮ | ⋮ | ⋮ | ⋮ | ⋮ | ⋮ | ⋮ | ⋮ | ⋮ |\n",
       "| 52 | 1 | 4 | 160 | 331 | 0 | 0 | 94  | 1 | 2.5 | ? | ? | ? | 1 |\n",
       "| 54 | 0 | 3 | 130 | 294 | 0 | 1 | 100 | 1 | 0.0 | 2 | ? | ? | 1 |\n",
       "| 56 | 1 | 4 | 155 | 342 | 1 | 0 | 150 | 1 | 3.0 | 2 | ? | ? | 1 |\n",
       "| 58 | 0 | 2 | 180 | 393 | 0 | 0 | 110 | 1 | 1.0 | 2 | ? | 7 | 1 |\n",
       "| 65 | 1 | 4 | 130 | 275 | 0 | 1 | 115 | 1 | 1.0 | 2 | ? | ? | 1 |\n",
       "\n"
      ],
      "text/plain": [
       "    X28 X1 X2 X130 X132 X0 X2.1 X185 X0.1 X0.2 X. X..1 X..2 X0.3\n",
       "1   29  1  2  120  243  0  0    160  0    0    ?  ?    ?    0   \n",
       "2   29  1  2  140  ?    0  0    170  0    0    ?  ?    ?    0   \n",
       "3   30  0  1  170  237  0  1    170  0    0    ?  ?    6    0   \n",
       "4   31  0  2  100  219  0  1    150  0    0    ?  ?    ?    0   \n",
       "5   32  0  2  105  198  0  0    165  0    0    ?  ?    ?    0   \n",
       "⋮   ⋮   ⋮  ⋮  ⋮    ⋮    ⋮  ⋮    ⋮    ⋮    ⋮    ⋮  ⋮    ⋮    ⋮   \n",
       "289 52  1  4  160  331  0  0    94   1    2.5  ?  ?    ?    1   \n",
       "290 54  0  3  130  294  0  1    100  1    0.0  2  ?    ?    1   \n",
       "291 56  1  4  155  342  1  0    150  1    3.0  2  ?    ?    1   \n",
       "292 58  0  2  180  393  0  0    110  1    1.0  2  ?    7    1   \n",
       "293 65  1  4  130  275  0  1    115  1    1.0  2  ?    ?    1   "
      ]
     },
     "metadata": {},
     "output_type": "display_data"
    }
   ],
   "source": [
    "formatted_hungary<-data.hungary |> \n",
    "    rename(age = X28, sex = X1, chest_pain = X2, resting_bp = X130, \n",
    "        cholesterol = X132, fasting_bgl = X0, resting_ekg = X2.1, max_hr = X185, angina = X0.1, \n",
    "        exercise_ST = X0.2, ST_slope = X., fluoroscopy_count = X..1, thal = X..2, vessel_narrow = X0.3) |>\n",
    "    transform(resting_bp = as.integer(resting_bp), cholesterol = as.integer(cholesterol), \n",
    "    fasting_bgl = as.integer(fasting_bgl), resting_ekg = as.integer(resting_ekg), max_hr = as.integer(max_hr), angina = as.integer(angina), ST_slope = as.integer(ST_slope),\n",
    "                         fluoroscopy_count = as.integer(fluoroscopy_count), thal = as.integer(thal), vessel_narrow = as.factor(vessel_narrow))\n",
    "data.hungary"
   ]
  },
  {
   "cell_type": "code",
   "execution_count": 4,
   "id": "de0e5bdd-94c1-4e47-982d-8d7242f644a6",
   "metadata": {
    "tags": []
   },
   "outputs": [
    {
     "data": {
      "text/html": [
       "<table class=\"dataframe\">\n",
       "<caption>A data.frame: 293 × 14</caption>\n",
       "<thead>\n",
       "\t<tr><th scope=col>X28</th><th scope=col>X1</th><th scope=col>X2</th><th scope=col>X130</th><th scope=col>X132</th><th scope=col>X0</th><th scope=col>X2.1</th><th scope=col>X185</th><th scope=col>X0.1</th><th scope=col>X0.2</th><th scope=col>X.</th><th scope=col>X..1</th><th scope=col>X..2</th><th scope=col>X0.3</th></tr>\n",
       "\t<tr><th scope=col>&lt;int&gt;</th><th scope=col>&lt;int&gt;</th><th scope=col>&lt;int&gt;</th><th scope=col>&lt;chr&gt;</th><th scope=col>&lt;chr&gt;</th><th scope=col>&lt;chr&gt;</th><th scope=col>&lt;chr&gt;</th><th scope=col>&lt;chr&gt;</th><th scope=col>&lt;chr&gt;</th><th scope=col>&lt;dbl&gt;</th><th scope=col>&lt;chr&gt;</th><th scope=col>&lt;chr&gt;</th><th scope=col>&lt;chr&gt;</th><th scope=col>&lt;int&gt;</th></tr>\n",
       "</thead>\n",
       "<tbody>\n",
       "\t<tr><td>29</td><td>1</td><td>2</td><td>120</td><td>243</td><td>0</td><td>0</td><td>160</td><td>0</td><td>0</td><td>?</td><td>?</td><td>?</td><td>0</td></tr>\n",
       "\t<tr><td>29</td><td>1</td><td>2</td><td>140</td><td>?  </td><td>0</td><td>0</td><td>170</td><td>0</td><td>0</td><td>?</td><td>?</td><td>?</td><td>0</td></tr>\n",
       "\t<tr><td>30</td><td>0</td><td>1</td><td>170</td><td>237</td><td>0</td><td>1</td><td>170</td><td>0</td><td>0</td><td>?</td><td>?</td><td>6</td><td>0</td></tr>\n",
       "\t<tr><td>31</td><td>0</td><td>2</td><td>100</td><td>219</td><td>0</td><td>1</td><td>150</td><td>0</td><td>0</td><td>?</td><td>?</td><td>?</td><td>0</td></tr>\n",
       "\t<tr><td>32</td><td>0</td><td>2</td><td>105</td><td>198</td><td>0</td><td>0</td><td>165</td><td>0</td><td>0</td><td>?</td><td>?</td><td>?</td><td>0</td></tr>\n",
       "\t<tr><td>⋮</td><td>⋮</td><td>⋮</td><td>⋮</td><td>⋮</td><td>⋮</td><td>⋮</td><td>⋮</td><td>⋮</td><td>⋮</td><td>⋮</td><td>⋮</td><td>⋮</td><td>⋮</td></tr>\n",
       "\t<tr><td>52</td><td>1</td><td>4</td><td>160</td><td>331</td><td>0</td><td>0</td><td>94 </td><td>1</td><td>2.5</td><td>?</td><td>?</td><td>?</td><td>1</td></tr>\n",
       "\t<tr><td>54</td><td>0</td><td>3</td><td>130</td><td>294</td><td>0</td><td>1</td><td>100</td><td>1</td><td>0.0</td><td>2</td><td>?</td><td>?</td><td>1</td></tr>\n",
       "\t<tr><td>56</td><td>1</td><td>4</td><td>155</td><td>342</td><td>1</td><td>0</td><td>150</td><td>1</td><td>3.0</td><td>2</td><td>?</td><td>?</td><td>1</td></tr>\n",
       "\t<tr><td>58</td><td>0</td><td>2</td><td>180</td><td>393</td><td>0</td><td>0</td><td>110</td><td>1</td><td>1.0</td><td>2</td><td>?</td><td>7</td><td>1</td></tr>\n",
       "\t<tr><td>65</td><td>1</td><td>4</td><td>130</td><td>275</td><td>0</td><td>1</td><td>115</td><td>1</td><td>1.0</td><td>2</td><td>?</td><td>?</td><td>1</td></tr>\n",
       "</tbody>\n",
       "</table>\n"
      ],
      "text/latex": [
       "A data.frame: 293 × 14\n",
       "\\begin{tabular}{llllllllllllll}\n",
       " X28 & X1 & X2 & X130 & X132 & X0 & X2.1 & X185 & X0.1 & X0.2 & X. & X..1 & X..2 & X0.3\\\\\n",
       " <int> & <int> & <int> & <chr> & <chr> & <chr> & <chr> & <chr> & <chr> & <dbl> & <chr> & <chr> & <chr> & <int>\\\\\n",
       "\\hline\n",
       "\t 29 & 1 & 2 & 120 & 243 & 0 & 0 & 160 & 0 & 0 & ? & ? & ? & 0\\\\\n",
       "\t 29 & 1 & 2 & 140 & ?   & 0 & 0 & 170 & 0 & 0 & ? & ? & ? & 0\\\\\n",
       "\t 30 & 0 & 1 & 170 & 237 & 0 & 1 & 170 & 0 & 0 & ? & ? & 6 & 0\\\\\n",
       "\t 31 & 0 & 2 & 100 & 219 & 0 & 1 & 150 & 0 & 0 & ? & ? & ? & 0\\\\\n",
       "\t 32 & 0 & 2 & 105 & 198 & 0 & 0 & 165 & 0 & 0 & ? & ? & ? & 0\\\\\n",
       "\t ⋮ & ⋮ & ⋮ & ⋮ & ⋮ & ⋮ & ⋮ & ⋮ & ⋮ & ⋮ & ⋮ & ⋮ & ⋮ & ⋮\\\\\n",
       "\t 52 & 1 & 4 & 160 & 331 & 0 & 0 & 94  & 1 & 2.5 & ? & ? & ? & 1\\\\\n",
       "\t 54 & 0 & 3 & 130 & 294 & 0 & 1 & 100 & 1 & 0.0 & 2 & ? & ? & 1\\\\\n",
       "\t 56 & 1 & 4 & 155 & 342 & 1 & 0 & 150 & 1 & 3.0 & 2 & ? & ? & 1\\\\\n",
       "\t 58 & 0 & 2 & 180 & 393 & 0 & 0 & 110 & 1 & 1.0 & 2 & ? & 7 & 1\\\\\n",
       "\t 65 & 1 & 4 & 130 & 275 & 0 & 1 & 115 & 1 & 1.0 & 2 & ? & ? & 1\\\\\n",
       "\\end{tabular}\n"
      ],
      "text/markdown": [
       "\n",
       "A data.frame: 293 × 14\n",
       "\n",
       "| X28 &lt;int&gt; | X1 &lt;int&gt; | X2 &lt;int&gt; | X130 &lt;chr&gt; | X132 &lt;chr&gt; | X0 &lt;chr&gt; | X2.1 &lt;chr&gt; | X185 &lt;chr&gt; | X0.1 &lt;chr&gt; | X0.2 &lt;dbl&gt; | X. &lt;chr&gt; | X..1 &lt;chr&gt; | X..2 &lt;chr&gt; | X0.3 &lt;int&gt; |\n",
       "|---|---|---|---|---|---|---|---|---|---|---|---|---|---|\n",
       "| 29 | 1 | 2 | 120 | 243 | 0 | 0 | 160 | 0 | 0 | ? | ? | ? | 0 |\n",
       "| 29 | 1 | 2 | 140 | ?   | 0 | 0 | 170 | 0 | 0 | ? | ? | ? | 0 |\n",
       "| 30 | 0 | 1 | 170 | 237 | 0 | 1 | 170 | 0 | 0 | ? | ? | 6 | 0 |\n",
       "| 31 | 0 | 2 | 100 | 219 | 0 | 1 | 150 | 0 | 0 | ? | ? | ? | 0 |\n",
       "| 32 | 0 | 2 | 105 | 198 | 0 | 0 | 165 | 0 | 0 | ? | ? | ? | 0 |\n",
       "| ⋮ | ⋮ | ⋮ | ⋮ | ⋮ | ⋮ | ⋮ | ⋮ | ⋮ | ⋮ | ⋮ | ⋮ | ⋮ | ⋮ |\n",
       "| 52 | 1 | 4 | 160 | 331 | 0 | 0 | 94  | 1 | 2.5 | ? | ? | ? | 1 |\n",
       "| 54 | 0 | 3 | 130 | 294 | 0 | 1 | 100 | 1 | 0.0 | 2 | ? | ? | 1 |\n",
       "| 56 | 1 | 4 | 155 | 342 | 1 | 0 | 150 | 1 | 3.0 | 2 | ? | ? | 1 |\n",
       "| 58 | 0 | 2 | 180 | 393 | 0 | 0 | 110 | 1 | 1.0 | 2 | ? | 7 | 1 |\n",
       "| 65 | 1 | 4 | 130 | 275 | 0 | 1 | 115 | 1 | 1.0 | 2 | ? | ? | 1 |\n",
       "\n"
      ],
      "text/plain": [
       "    X28 X1 X2 X130 X132 X0 X2.1 X185 X0.1 X0.2 X. X..1 X..2 X0.3\n",
       "1   29  1  2  120  243  0  0    160  0    0    ?  ?    ?    0   \n",
       "2   29  1  2  140  ?    0  0    170  0    0    ?  ?    ?    0   \n",
       "3   30  0  1  170  237  0  1    170  0    0    ?  ?    6    0   \n",
       "4   31  0  2  100  219  0  1    150  0    0    ?  ?    ?    0   \n",
       "5   32  0  2  105  198  0  0    165  0    0    ?  ?    ?    0   \n",
       "⋮   ⋮   ⋮  ⋮  ⋮    ⋮    ⋮  ⋮    ⋮    ⋮    ⋮    ⋮  ⋮    ⋮    ⋮   \n",
       "289 52  1  4  160  331  0  0    94   1    2.5  ?  ?    ?    1   \n",
       "290 54  0  3  130  294  0  1    100  1    0.0  2  ?    ?    1   \n",
       "291 56  1  4  155  342  1  0    150  1    3.0  2  ?    ?    1   \n",
       "292 58  0  2  180  393  0  0    110  1    1.0  2  ?    7    1   \n",
       "293 65  1  4  130  275  0  1    115  1    1.0  2  ?    ?    1   "
      ]
     },
     "metadata": {},
     "output_type": "display_data"
    }
   ],
   "source": []
  }
 ],
 "metadata": {
  "kernelspec": {
   "display_name": "R",
   "language": "R",
   "name": "ir"
  },
  "language_info": {
   "codemirror_mode": "r",
   "file_extension": ".r",
   "mimetype": "text/x-r-source",
   "name": "R",
   "pygments_lexer": "r",
   "version": "4.2.2"
  }
 },
 "nbformat": 4,
 "nbformat_minor": 5
}
